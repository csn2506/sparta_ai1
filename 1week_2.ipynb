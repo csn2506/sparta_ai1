{
  "nbformat": 4,
  "nbformat_minor": 0,
  "metadata": {
    "colab": {
      "provenance": [],
      "gpuType": "T4",
      "name": "1week_2.ipynb",
      "toc_visible": true,
      "include_colab_link": true
    },
    "kernelspec": {
      "name": "python3",
      "display_name": "Python 3"
    },
    "language_info": {
      "name": "python"
    },
    "accelerator": "GPU"
  },
  "cells": [
    {
      "cell_type": "markdown",
      "metadata": {
        "id": "view-in-github",
        "colab_type": "text"
      },
      "source": [
        "<a href=\"https://colab.research.google.com/github/csn2506/sparta_ai1/blob/main/1week_2.ipynb\" target=\"_parent\"><img src=\"https://colab.research.google.com/assets/colab-badge.svg\" alt=\"Open In Colab\"/></a>"
      ]
    },
    {
      "cell_type": "markdown",
      "source": [
        "# MNIST 실습\n",
        "\n",
        "이번에는 28x28 흑백 손글씨 이미지를 보고 0~9 사이의 숫자 중 어떤 숫자를 쓴 것인지 예측하는 문제를 실습합니다.\n",
        "이번 실습에서는 GPU를 활용할 것이기 때문에, 이전 챕터에서 Colab에서 GPU를 설정하는 방법을 따라해주시길 바랍니다.\n",
        "\n",
        "GPU를 설정했으면 library들을 import합니다."
      ],
      "metadata": {
        "id": "OPJenlrhihrh"
      }
    },
    {
      "cell_type": "code",
      "execution_count": 5,
      "metadata": {
        "id": "6lXVfXoDtoQh"
      },
      "outputs": [],
      "source": [
        "import torch\n",
        "import torchvision\n",
        "import torchvision.transforms as transforms"
      ]
    },
    {
      "cell_type": "markdown",
      "source": [
        "다음은 dataset을 준비합니다. 손글씨 dataset은 MNIST라는 유명한 dataset이 있습니다. 이 dataset은 `torchvision`에서 제공하고 있으며, 다음과 같이 다운로드 받을 수 있습니다."
      ],
      "metadata": {
        "id": "pF-1zQvmiult"
      }
    },
    {
      "cell_type": "code",
      "source": [
        "transform = transforms.ToTensor()\n",
        "\n",
        "trainset = torchvision.datasets.MNIST(\n",
        "    root='./data',\n",
        "    train=True,\n",
        "    download=True,\n",
        "    transform=transform\n",
        ")\n",
        "\n",
        "testset = torchvision.datasets.MNIST(\n",
        "    root='./data',\n",
        "    train=False,\n",
        "    download=True,\n",
        "    transform=transform\n",
        ")"
      ],
      "metadata": {
        "id": "KAYlqPaRt6ti",
        "colab": {
          "base_uri": "https://localhost:8080/"
        },
        "outputId": "39488842-2b27-42a1-abdf-384401b8cb57"
      },
      "execution_count": 6,
      "outputs": [
        {
          "output_type": "stream",
          "name": "stdout",
          "text": [
            "Downloading http://yann.lecun.com/exdb/mnist/train-images-idx3-ubyte.gz\n",
            "Failed to download (trying next):\n",
            "HTTP Error 403: Forbidden\n",
            "\n",
            "Downloading https://ossci-datasets.s3.amazonaws.com/mnist/train-images-idx3-ubyte.gz\n",
            "Downloading https://ossci-datasets.s3.amazonaws.com/mnist/train-images-idx3-ubyte.gz to ./data/MNIST/raw/train-images-idx3-ubyte.gz\n"
          ]
        },
        {
          "output_type": "stream",
          "name": "stderr",
          "text": [
            "100%|██████████| 9912422/9912422 [00:01<00:00, 5066817.01it/s]\n"
          ]
        },
        {
          "output_type": "stream",
          "name": "stdout",
          "text": [
            "Extracting ./data/MNIST/raw/train-images-idx3-ubyte.gz to ./data/MNIST/raw\n",
            "\n",
            "Downloading http://yann.lecun.com/exdb/mnist/train-labels-idx1-ubyte.gz\n",
            "Failed to download (trying next):\n",
            "HTTP Error 403: Forbidden\n",
            "\n",
            "Downloading https://ossci-datasets.s3.amazonaws.com/mnist/train-labels-idx1-ubyte.gz\n",
            "Downloading https://ossci-datasets.s3.amazonaws.com/mnist/train-labels-idx1-ubyte.gz to ./data/MNIST/raw/train-labels-idx1-ubyte.gz\n"
          ]
        },
        {
          "output_type": "stream",
          "name": "stderr",
          "text": [
            "100%|██████████| 28881/28881 [00:00<00:00, 65147.80it/s]\n"
          ]
        },
        {
          "output_type": "stream",
          "name": "stdout",
          "text": [
            "Extracting ./data/MNIST/raw/train-labels-idx1-ubyte.gz to ./data/MNIST/raw\n",
            "\n",
            "Downloading http://yann.lecun.com/exdb/mnist/t10k-images-idx3-ubyte.gz\n",
            "Failed to download (trying next):\n",
            "HTTP Error 403: Forbidden\n",
            "\n",
            "Downloading https://ossci-datasets.s3.amazonaws.com/mnist/t10k-images-idx3-ubyte.gz\n",
            "Downloading https://ossci-datasets.s3.amazonaws.com/mnist/t10k-images-idx3-ubyte.gz to ./data/MNIST/raw/t10k-images-idx3-ubyte.gz\n"
          ]
        },
        {
          "output_type": "stream",
          "name": "stderr",
          "text": [
            "100%|██████████| 1648877/1648877 [00:06<00:00, 241307.45it/s]\n"
          ]
        },
        {
          "output_type": "stream",
          "name": "stdout",
          "text": [
            "Extracting ./data/MNIST/raw/t10k-images-idx3-ubyte.gz to ./data/MNIST/raw\n",
            "\n",
            "Downloading http://yann.lecun.com/exdb/mnist/t10k-labels-idx1-ubyte.gz\n",
            "Failed to download (trying next):\n",
            "HTTP Error 403: Forbidden\n",
            "\n",
            "Downloading https://ossci-datasets.s3.amazonaws.com/mnist/t10k-labels-idx1-ubyte.gz\n",
            "Downloading https://ossci-datasets.s3.amazonaws.com/mnist/t10k-labels-idx1-ubyte.gz to ./data/MNIST/raw/t10k-labels-idx1-ubyte.gz\n"
          ]
        },
        {
          "output_type": "stream",
          "name": "stderr",
          "text": [
            "100%|██████████| 4542/4542 [00:00<00:00, 8990339.20it/s]"
          ]
        },
        {
          "output_type": "stream",
          "name": "stdout",
          "text": [
            "Extracting ./data/MNIST/raw/t10k-labels-idx1-ubyte.gz to ./data/MNIST/raw\n",
            "\n"
          ]
        },
        {
          "output_type": "stream",
          "name": "stderr",
          "text": [
            "\n"
          ]
        }
      ]
    },
    {
      "cell_type": "markdown",
      "source": [
        "MNIST는 손글씨 사진과 어떤 숫자를 의미하는지에 대한 label의 pair들로 구성되어있습니다.\n",
        "이 때, 우리는 PyTorch model을 사용할 것이기 때문에 손글씨 사진들을 모두 tensor로 변환해야합니다.\n",
        "이러한 부가적인 변환들은 `torchvision.transforms`에서 제공하고 있으며, `torchvision.datasets.MNIST`에서 `transform` 인자로 받을 수 있습니다.\n",
        "우리는 단순히 사진을 tensor로 바꾸고 싶기 때문에 `transforms.ToTensor()` transformation을 넘겨줍니다.\n",
        "\n",
        "다음은 전체 data의 개수와 첫 번째 data를 출력한 결과입니다."
      ],
      "metadata": {
        "id": "p-GqH7_ZjVMs"
      }
    },
    {
      "cell_type": "code",
      "source": [
        "from matplotlib import pyplot as plt\n",
        "\n",
        "\n",
        "print(len(trainset))\n",
        "print(trainset[0][0].shape, trainset[0][1])\n",
        "print(testset[0][0].shape, testset[0][1])\n",
        "plt.imshow(trainset[0][0][0], cmap='gray')\n",
        "plt.imshow(testset[0][0][0], cmap='gray')"
      ],
      "metadata": {
        "colab": {
          "base_uri": "https://localhost:8080/",
          "height": 503
        },
        "id": "Zsp3sHmojyhT",
        "outputId": "87690ef8-d971-4174-d748-df2f5198862b"
      },
      "execution_count": 7,
      "outputs": [
        {
          "output_type": "stream",
          "name": "stdout",
          "text": [
            "60000\n",
            "torch.Size([1, 28, 28]) 5\n",
            "torch.Size([1, 28, 28]) 7\n"
          ]
        },
        {
          "output_type": "execute_result",
          "data": {
            "text/plain": [
              "<matplotlib.image.AxesImage at 0x7c06a9a34250>"
            ]
          },
          "metadata": {},
          "execution_count": 7
        },
        {
          "output_type": "display_data",
          "data": {
            "text/plain": [
              "<Figure size 640x480 with 1 Axes>"
            ],
            "image/png": "[encoded data removed]"
          },
          "metadata": {}
        }
      ]
    },
    {
      "cell_type": "markdown",
      "source": [
        "첫 번째 출력결과를 통해 우리는 6만장의 손글씨 data가 있는 것을 알 수 있습니다.\n",
        "그리고 두 번째 출력결과를 통해 첫 번째 data의 shape은 (1, 28, 28)이고 5라는 숫자를 쓴 사진이라는 것을 알 수 있습니다.\n",
        "마지막으로 `plt.imshow`를 통해 visualize 했을 때 5라는 숫자가 나오는 것을 알 수 있습니다.\n",
        "\n",
        "다음은 SGD를 위해 dataset을 여러 개의 batch로 나누는 과정을 PyTorch로 구현한 모습입니다."
      ],
      "metadata": {
        "id": "udm8wDBsi301"
      }
    },
    {
      "cell_type": "code",
      "source": [
        "batch_size = 256\n",
        "\n",
        "trainloader = torch.utils.data.DataLoader(\n",
        "    trainset,\n",
        "    batch_size=batch_size,\n",
        "    shuffle=True\n",
        ")\n",
        "\n",
        "testloader = torch.utils.data.DataLoader(\n",
        "    testset,\n",
        "    batch_size=batch_size,\n",
        "    shuffle=False\n",
        ")"
      ],
      "metadata": {
        "id": "UxKu3kA2i5WH"
      },
      "execution_count": 8,
      "outputs": []
    },
    {
      "cell_type": "markdown",
      "source": [
        "PyTorch에서는 `DataLoader`가 dataset을 인자로 받아 batch로 나눠줍니다.\n",
        "부가적으로 `batch_size`라는 인자를 통해 batch size를 받고 있으며, `shuffle`이라는 인자를 통해 data들을 섞을지 결정해줍니다.\n",
        "우리는 SGD가 완전 랜덤으로 batch를 구성해야 잘 동작하는 것을 알고 있기 때문에 `shuffle`에 `True`를 넘겨주고 있습니다.\n",
        "\n",
        "다음은 첫 번째 batch를 출력한 모습입니다."
      ],
      "metadata": {
        "id": "z4Qyrm4WlzWt"
      }
    },
    {
      "cell_type": "code",
      "source": [
        "dataiter = iter(trainloader)\n",
        "images, labels = next(dataiter)\n",
        "print(images.shape, labels.shape)"
      ],
      "metadata": {
        "colab": {
          "base_uri": "https://localhost:8080/"
        },
        "id": "_Hd7XxyAvVNz",
        "outputId": "185acb61-2ed7-4110-b325-c0e016ca60b0"
      },
      "execution_count": null,
      "outputs": [
        {
          "output_type": "stream",
          "name": "stdout",
          "text": [
            "torch.Size([64, 1, 28, 28]) torch.Size([64])\n"
          ]
        }
      ]
    },
    {
      "cell_type": "markdown",
      "source": [
        "`images`는 첫 번째 batch의 image들이고 `labels`는 첫 번째 batch의 label들입니다.\n",
        "위에서 batch size를 64로 설정했기 때문에 총 64개의 image와 label들이 있어야 합니다.\n",
        "실제 shape 출력 결과를 보면 그렇다는 것을 알 수 있습니다.\n",
        "\n",
        "다음은 (n, 1, 28, 28) shape의 image를 입력받아 0~9 사이의 정수 하나를 출력하는 3-layer MLP를 구현합니다."
      ],
      "metadata": {
        "id": "h0ZY5mDimRUK"
      }
    },
    {
      "cell_type": "code",
      "source": [
        "from torch import nn\n",
        "\n",
        "\n",
        "class Model(nn.Module):\n",
        "  def __init__(self, input_dim, n_dim):\n",
        "    super().__init__()\n",
        "\n",
        "    self.layer1 = nn.Linear(input_dim, n_dim)\n",
        "    self.layer2 = nn.Linear(n_dim, n_dim)\n",
        "    self.layer3 = nn.Linear(n_dim, 10)\n",
        "\n",
        "    self.act = nn.ReLU()\n",
        "\n",
        "  def forward(self, x):\n",
        "    x = torch.flatten(x, start_dim=1)\n",
        "    x = self.act(self.layer1(x))\n",
        "    x = self.act(self.layer2(x))\n",
        "    x = self.act(self.layer3(x))\n",
        "\n",
        "    return x\n",
        "\n",
        "\n",
        "model = Model(28 * 28 * 1, 1024)"
      ],
      "metadata": {
        "id": "OLOA-ZGTuVVG"
      },
      "execution_count": 9,
      "outputs": []
    },
    {
      "cell_type": "markdown",
      "source": [
        "이전의 2-layer MLP와 유사한 형태임을 알 수 있습니다.\n",
        "여기서 특이사항은 `forward`의 첫 번째 줄에 `torch.flatten`을 사용한다는 것입니다.\n",
        "`Linear`는 이전에도 봤다시피 (n, d) 형태의 shape을 입력받습니다.\n",
        "이미지는 (n, 1, 28, 28)이기 때문에 (n, 1 * 28 * 28)로 shape을 변환해야 선형 함수에 입력으로 주어줄 수 있게 됩니다.\n",
        "이 역할을 수행하는 것이 바로 `torch.flatten`입니다.\n",
        "우리는 첫 번째 shape인 n을 보존할 것이기 때문에 flatten할 차원은 `start_dim=1`로 넘겨주게 됩니다.\n",
        "\n",
        "다음은 gradient descent를 수행해줄 optimizer를 구현하는 모습입니다."
      ],
      "metadata": {
        "id": "tag1rNcwmnAr"
      }
    },
    {
      "cell_type": "code",
      "source": [
        "from torch.optim import SGD\n",
        "\n",
        "lr = 0.001\n",
        "model = model.to('cuda')\n",
        "\n",
        "optimizer = SGD(model.parameters(), lr=lr)"
      ],
      "metadata": {
        "id": "ypS0TcOlvBhZ"
      },
      "execution_count": 10,
      "outputs": []
    },
    {
      "cell_type": "markdown",
      "source": [
        "이전 코드와 거의 똑같습니다. 다른 점은 `model.to('cuda')` 코드를 통해 우리가 구현한 model을 GPU로 옮긴 것입니다.\n",
        "MNIST 부터는 모델과 data가 커지면서 훨씬 많은 행렬 연산이 이루어지기 때문에 GPU를 활용하는 것이 빠릅니다.\n",
        "\n",
        "다음은 model을 MNIST에 학습하는 코드입니다."
      ],
      "metadata": {
        "id": "5PooeOKMnRfZ"
      }
    },
    {
      "cell_type": "code",
      "source": [
        "import numpy as np\n",
        "\n",
        "def accuracy(model, dataloader):\n",
        "  cnt = 0\n",
        "  acc = 0\n",
        "\n",
        "  for data in dataloader:\n",
        "    inputs, labels = data\n",
        "    inputs, labels = inputs.to('cuda'), labels.to('cuda')\n",
        "\n",
        "    preds = model(inputs)\n",
        "    preds = torch.argmax(preds, dim=-1)\n",
        "\n",
        "    cnt += labels.shape[0]\n",
        "    acc += (labels == preds).sum().item()\n",
        "\n",
        "  return acc / cnt\n",
        "\n",
        "def plot_acc(train_accs, test_accs, label1='train', label2='test'):\n",
        "  x = np.arange(len(train_accs))\n",
        "\n",
        "  plt.plot(x, train_accs, label=label1)\n",
        "  plt.plot(x, test_accs, label=label2)\n",
        "  plt.legend()\n",
        "  plt.show()\n",
        "\n",
        "\n",
        "n_epochs = 100\n",
        "train_accs = []\n",
        "test_accs = []\n",
        "\n",
        "for epoch in range(n_epochs):\n",
        "  total_train_loss = 0.\n",
        "  for data in trainloader:\n",
        "    model.zero_grad()\n",
        "    inputs, labels = data\n",
        "    inputs, labels = inputs.to('cuda'), labels.to('cuda')\n",
        "\n",
        "    preds = model(inputs)\n",
        "    train_loss = nn.CrossEntropyLoss()\n",
        "    loss = train_loss(preds, labels)\n",
        "    loss.backward()\n",
        "    optimizer.step()\n",
        "\n",
        "    total_train_loss += loss.item()\n",
        "\n",
        "  train_accs.append(accuracy(model, trainloader))\n",
        "\n",
        "  total_test_loss = 0.\n",
        "  for data in testloader:\n",
        "    model.zero_grad()\n",
        "    inputs, labels = data\n",
        "    inputs, labels = inputs.to('cuda'), labels.to('cuda')\n",
        "\n",
        "    preds = model(inputs)\n",
        "    test_loss = nn.CrossEntropyLoss()\n",
        "    loss = test_loss(preds, labels)\n",
        "    loss.backward()\n",
        "    optimizer.step()\n",
        "\n",
        "    total_test_loss += loss.item()\n",
        "\n",
        "  test_accs.append(accuracy(model, testloader))\n",
        "\n",
        "\n",
        "  print(f\"Epoch {epoch:3d} | Loss: {total_test_loss} | {total_train_loss}\")\n",
        "plot_acc(train_accs, test_accs)\n",
        "\n",
        ""
      ],
      "metadata": {
        "colab": {
          "base_uri": "https://localhost:8080/",
          "height": 1000
        },
        "id": "TryX1hewvNiB",
        "outputId": "cd46bc45-6280-4c74-f839-6d0ba224d8b3"
      },
      "execution_count": 18,
      "outputs": [
        {
          "output_type": "stream",
          "name": "stdout",
          "text": [
            "Epoch   0 | Loss: 57.58830976486206 | 353.94787669181824\n",
            "Epoch   1 | Loss: 53.76576769351959 | 331.6962196826935\n",
            "Epoch   2 | Loss: 50.09341084957123 | 310.02921748161316\n",
            "Epoch   3 | Loss: 46.658462047576904 | 289.3817732334137\n",
            "Epoch   4 | Loss: 43.51995211839676 | 270.28609013557434\n",
            "Epoch   5 | Loss: 40.701533794403076 | 252.94518727064133\n",
            "Epoch   6 | Loss: 38.193773448467255 | 237.4288363456726\n",
            "Epoch   7 | Loss: 35.98107045888901 | 223.61728471517563\n",
            "Epoch   8 | Loss: 34.03489625453949 | 211.51760351657867\n",
            "Epoch   9 | Loss: 32.313129007816315 | 200.7082530260086\n",
            "Epoch  10 | Loss: 30.798039436340332 | 191.24664360284805\n",
            "Epoch  11 | Loss: 29.453676760196686 | 182.83423745632172\n",
            "Epoch  12 | Loss: 28.253325194120407 | 175.3977866768837\n",
            "Epoch  13 | Loss: 27.180361092090607 | 168.6269726753235\n",
            "Epoch  14 | Loss: 26.212887287139893 | 162.72419226169586\n",
            "Epoch  15 | Loss: 25.338470995426178 | 157.2136789560318\n",
            "Epoch  16 | Loss: 24.545970290899277 | 152.37296640872955\n",
            "Epoch  17 | Loss: 23.820264488458633 | 147.82248663902283\n",
            "Epoch  18 | Loss: 23.16141629219055 | 143.73670494556427\n",
            "Epoch  19 | Loss: 22.54902172088623 | 140.07763519883156\n",
            "Epoch  20 | Loss: 21.987589478492737 | 136.6237176656723\n",
            "Epoch  21 | Loss: 21.47479285299778 | 133.40492925047874\n",
            "Epoch  22 | Loss: 20.989889577031136 | 130.52180618047714\n",
            "Epoch  23 | Loss: 20.549153193831444 | 127.77843964099884\n",
            "Epoch  24 | Loss: 20.12794755399227 | 125.25238645076752\n",
            "Epoch  25 | Loss: 19.740253254771233 | 122.87481862306595\n",
            "Epoch  26 | Loss: 19.379078030586243 | 120.69132593274117\n",
            "Epoch  27 | Loss: 19.042327523231506 | 118.56941309571266\n",
            "Epoch  28 | Loss: 18.722846493124962 | 116.64675983786583\n",
            "Epoch  29 | Loss: 18.425628393888474 | 114.91393530368805\n",
            "Epoch  30 | Loss: 18.143237993121147 | 113.17885455489159\n",
            "Epoch  31 | Loss: 17.881709456443787 | 111.55335003137589\n",
            "Epoch  32 | Loss: 17.631132528185844 | 109.9299401640892\n",
            "Epoch  33 | Loss: 17.39611329138279 | 108.55387505888939\n",
            "Epoch  34 | Loss: 17.167377702891827 | 107.15585327148438\n",
            "Epoch  35 | Loss: 16.954425022006035 | 105.98743486404419\n",
            "Epoch  36 | Loss: 16.756072379648685 | 104.69042471051216\n",
            "Epoch  37 | Loss: 16.561513252556324 | 103.46677431464195\n",
            "Epoch  38 | Loss: 16.3796311840415 | 102.42306771874428\n",
            "Epoch  39 | Loss: 16.20611298829317 | 101.33011123538017\n",
            "Epoch  40 | Loss: 16.037240631878376 | 100.364263266325\n",
            "Epoch  41 | Loss: 15.876798339188099 | 99.33931365609169\n",
            "Epoch  42 | Loss: 15.729261003434658 | 98.51594397425652\n",
            "Epoch  43 | Loss: 15.582681156694889 | 97.73977702856064\n",
            "Epoch  44 | Loss: 15.447025448083878 | 96.79727348685265\n",
            "Epoch  45 | Loss: 15.308358579874039 | 95.8877132833004\n",
            "Epoch  46 | Loss: 15.181153506040573 | 95.23718243837357\n",
            "Epoch  47 | Loss: 15.058580182492733 | 94.44167673587799\n",
            "Epoch  48 | Loss: 14.93895834684372 | 93.69121512770653\n",
            "Epoch  49 | Loss: 14.82246944308281 | 92.96806091070175\n",
            "Epoch  50 | Loss: 14.712096147239208 | 92.38223358988762\n",
            "Epoch  51 | Loss: 14.608566455543041 | 91.7539392709732\n",
            "Epoch  52 | Loss: 14.503256693482399 | 91.15939489006996\n",
            "Epoch  53 | Loss: 14.402684263885021 | 90.50333625078201\n",
            "Epoch  54 | Loss: 14.304264150559902 | 89.88425153493881\n",
            "Epoch  55 | Loss: 14.213231656700373 | 89.28200259804726\n",
            "Epoch  56 | Loss: 14.120491705834866 | 88.80482670664787\n",
            "Epoch  57 | Loss: 14.030802600085735 | 88.29574531316757\n",
            "Epoch  58 | Loss: 13.947946980595589 | 87.72454607486725\n",
            "Epoch  59 | Loss: 13.866920601576567 | 87.2928885370493\n",
            "Epoch  60 | Loss: 13.787459161132574 | 86.8335797637701\n",
            "Epoch  61 | Loss: 13.703844547271729 | 86.33068788051605\n",
            "Epoch  62 | Loss: 13.629307799041271 | 85.8799199461937\n",
            "Epoch  63 | Loss: 13.555193178355694 | 85.43665820360184\n",
            "Epoch  64 | Loss: 13.48399380594492 | 84.96733868122101\n",
            "Epoch  65 | Loss: 13.412659402936697 | 84.49207432568073\n",
            "Epoch  66 | Loss: 13.343309670686722 | 84.14401714503765\n",
            "Epoch  67 | Loss: 13.2770731523633 | 83.69164042174816\n",
            "Epoch  68 | Loss: 13.211536597460508 | 83.31396146118641\n",
            "Epoch  69 | Loss: 13.146544616669416 | 82.92287112772465\n",
            "Epoch  70 | Loss: 13.084285512566566 | 82.60694722831249\n",
            "Epoch  71 | Loss: 13.021189391613007 | 82.22419713437557\n",
            "Epoch  72 | Loss: 12.960115659981966 | 81.79678179323673\n",
            "Epoch  73 | Loss: 12.905061449855566 | 81.4947694092989\n",
            "Epoch  74 | Loss: 12.84579961746931 | 81.0899088382721\n",
            "Epoch  75 | Loss: 12.78965999186039 | 80.83741241693497\n",
            "Epoch  76 | Loss: 12.736375663429499 | 80.44421176612377\n",
            "Epoch  77 | Loss: 12.682175770401955 | 80.09311091899872\n",
            "Epoch  78 | Loss: 12.627116203308105 | 79.76035526394844\n",
            "Epoch  79 | Loss: 12.57143260538578 | 79.47679699957371\n",
            "Epoch  80 | Loss: 12.521021328866482 | 79.20241217315197\n",
            "Epoch  81 | Loss: 12.47052252665162 | 78.9226884841919\n",
            "Epoch  82 | Loss: 12.421824216842651 | 78.62461172044277\n",
            "Epoch  83 | Loss: 12.374322544783354 | 78.24199156463146\n",
            "Epoch  84 | Loss: 12.321861822158098 | 78.12850204110146\n",
            "Epoch  85 | Loss: 12.275272622704506 | 77.73941665887833\n",
            "Epoch  86 | Loss: 12.231499273329973 | 77.50552897155285\n",
            "Epoch  87 | Loss: 12.187179613858461 | 77.18544359505177\n",
            "Epoch  88 | Loss: 12.139729246497154 | 76.9405496865511\n",
            "Epoch  89 | Loss: 12.095338873565197 | 76.65848684310913\n",
            "Epoch  90 | Loss: 12.054113626480103 | 76.46841563284397\n",
            "Epoch  91 | Loss: 12.006724160164595 | 76.1579013466835\n",
            "Epoch  92 | Loss: 11.972342599183321 | 75.87965519726276\n",
            "Epoch  93 | Loss: 11.928694881498814 | 75.60343791544437\n",
            "Epoch  94 | Loss: 11.88754677027464 | 75.41272081434727\n",
            "Epoch  95 | Loss: 11.842873886227608 | 75.13572019338608\n",
            "Epoch  96 | Loss: 11.804473645985126 | 74.9694742411375\n",
            "Epoch  97 | Loss: 11.764577470719814 | 74.71221587061882\n",
            "Epoch  98 | Loss: 11.72443963587284 | 74.52627573907375\n",
            "Epoch  99 | Loss: 11.685157306492329 | 74.21627724170685\n"
          ]
        },
        {
          "output_type": "display_data",
          "data": {
            "text/plain": [
              "<Figure size 640x480 with 1 Axes>"
            ],
            "image/png": "[encoded data removed]"
          },
          "metadata": {}
        }
      ]
    },
    {
      "cell_type": "markdown",
      "source": [
        "출력 결과를 보면 잘 수렴하는 것을 볼 수 있습니다.\n",
        "이전 구현과 다른 점은 다음 두 가지입니다.\n",
        "- `for data in trainloader`를 통해 batch들을 iterate하면서 model을 학습합니다.\n",
        "- `inputs, labels = inputs.to('cuda'), labels.to('cuda')`를 통해 model의 입력으로 들어가는 tensor들을 GPU로 보냅니다.\n",
        "\n",
        "마지막으로 첫 번째 data에 대한 예측 결과를 살펴봅시다."
      ],
      "metadata": {
        "id": "YRDcptrqniX7"
      }
    },
    {
      "cell_type": "code",
      "source": [
        "from google.colab import drive\n",
        "drive.mount('/content/drive')"
      ],
      "metadata": {
        "id": "iPu97pMpDm1J"
      },
      "execution_count": null,
      "outputs": []
    },
    {
      "cell_type": "code",
      "source": [
        "idx = 0\n",
        "\n",
        "x = trainset[idx][0][None]  # (1, 1, 28, 28)\n",
        "x = x.to('cuda')\n",
        "\n",
        "x = testset[idx][0][None]  # (1, 1, 28, 28)\n",
        "x = x.to('cuda')\n",
        "\n",
        "print(model(x))\n",
        "print(trainset[idx][1])"
      ],
      "metadata": {
        "id": "Zct0ssSKwjt1",
        "colab": {
          "base_uri": "https://localhost:8080/"
        },
        "outputId": "91032636-3d32-44a0-c3b4-399338d319d0"
      },
      "execution_count": 19,
      "outputs": [
        {
          "output_type": "stream",
          "name": "stdout",
          "text": [
            "tensor([[4.2111, 0.0000, 3.1867, 7.6562, 0.0000, 7.4126, 0.1350, 3.2724, 3.7072,\n",
            "         2.9638]], device='cuda:0', grad_fn=<ReluBackward0>)\n",
            "5\n"
          ]
        }
      ]
    },
    {
      "cell_type": "markdown",
      "source": [
        "여기서 idx를 조정하여 다른 data에 대한 출력 결과도 볼 수 있습니다.\n",
        "예측 결과를 보시면 아직 성능이 그렇게 좋지 않은 것을 알 수 있습니다."
      ],
      "metadata": {
        "id": "qzgSOrMsoZ2z"
      }
    },
    {
      "cell_type": "code",
      "source": [],
      "metadata": {
        "id": "d6M4SpWQoML9"
      },
      "execution_count": null,
      "outputs": []
    }
  ]
}
